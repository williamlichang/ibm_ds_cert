{
 "cells": [
  {
   "cell_type": "markdown",
   "id": "0f51acc2-5d24-46b3-bedf-6a5a840ab5d2",
   "metadata": {
    "jp-MarkdownHeadingCollapsed": true,
    "tags": []
   },
   "source": [
    "# Exercise 2: Create a Jupyter Notebook"
   ]
  },
  {
   "cell_type": "markdown",
   "id": "b582dd2c-7278-46c0-9b94-e70b47b6d22c",
   "metadata": {},
   "source": [
    "# Data Science Tools and Ecosystem"
   ]
  },
  {
   "cell_type": "markdown",
   "id": "292e2624-1377-449f-9054-0aa8c4b37a33",
   "metadata": {},
   "source": [
    "---"
   ]
  },
  {
   "cell_type": "markdown",
   "id": "f98d90ef-d269-41e6-837f-c562c27bdbdd",
   "metadata": {},
   "source": [
    "# Exercise 3 - Create a markdown cell for an introduction"
   ]
  },
  {
   "cell_type": "markdown",
   "id": "883b60f4-e3b9-4206-8aa3-99bea0054750",
   "metadata": {},
   "source": [
    "In this notebook, Data Science Tools and Ecosystem are summarized."
   ]
  },
  {
   "cell_type": "markdown",
   "id": "9ce6dd36-bdbe-4764-b983-f48a661acd94",
   "metadata": {},
   "source": [
    "---"
   ]
  },
  {
   "cell_type": "markdown",
   "id": "3290eee9-0da4-48ef-bdf3-b340246c2b23",
   "metadata": {},
   "source": [
    "# Exercise 4 - Create a markdown cell to list data science languages"
   ]
  },
  {
   "cell_type": "markdown",
   "id": "61cae181-0f1a-435e-a83a-144ec021ff62",
   "metadata": {},
   "source": [
    "Some of the popular languages that Data Scientists use are:\n",
    "1. Python\n",
    "\n",
    "2. R\n",
    "\n",
    "3. SQL\n",
    "\n",
    "4. JSON\n",
    "    "
   ]
  },
  {
   "cell_type": "markdown",
   "id": "91577697-2d05-422f-b5f4-ca6d52b8ec3a",
   "metadata": {},
   "source": [
    "---"
   ]
  },
  {
   "cell_type": "markdown",
   "id": "90b5aa1a-8ec3-4be8-ac2f-c3bc1a6a2e3e",
   "metadata": {},
   "source": [
    "# Exercise 5 - Create a markdown cell to list data science libraries"
   ]
  },
  {
   "cell_type": "markdown",
   "id": "e6739fe0-fadc-4fa2-86d9-6f00216c98db",
   "metadata": {},
   "source": [
    "Some of the commonly used libraries used by Data Scientists include:\n",
    "1. Pandas\n",
    "\n",
    "2. Numpy\n",
    "\n",
    "3. Matplotlib\n",
    "\n",
    "4. Scikit-learn"
   ]
  },
  {
   "cell_type": "markdown",
   "id": "bcbfdcf1-03a4-483d-9c9b-7c17c135f9a8",
   "metadata": {},
   "source": [
    "---"
   ]
  },
  {
   "cell_type": "markdown",
   "id": "cbb24f16-a745-47ab-a4ee-3ea29098cb54",
   "metadata": {},
   "source": [
    "# Exercise 6 - Create a markdown cell with a table of Data Science tools"
   ]
  },
  {
   "cell_type": "markdown",
   "id": "ce10a865-be77-4df8-8a64-f71367bf33df",
   "metadata": {},
   "source": [
    "|Data Science Tools|\n",
    "|---|\n",
    "|VScode|\n",
    "|JupyterLab|\n",
    "|Anaconda|"
   ]
  },
  {
   "cell_type": "markdown",
   "id": "2620cf4b-f03d-4ad5-9834-04ff6a5b6662",
   "metadata": {},
   "source": [
    "---"
   ]
  },
  {
   "cell_type": "markdown",
   "id": "31e6cf19-b487-4f16-833f-6da5cf13742c",
   "metadata": {},
   "source": [
    "# Exercise 7 - Create a markdown cell introducing arithmetic expression examples"
   ]
  },
  {
   "cell_type": "markdown",
   "id": "2ef2abc3-bea8-4464-80c0-d6d87473e005",
   "metadata": {},
   "source": [
    "### Below are a few examples of evaluating arithmetic expressions in Python."
   ]
  },
  {
   "cell_type": "markdown",
   "id": "5cb9ca2e-650f-401f-be4e-8f4d7effde2f",
   "metadata": {},
   "source": [
    "---"
   ]
  },
  {
   "cell_type": "markdown",
   "id": "67efdff9-cc1c-45c1-a46a-f3c4bd88f0fb",
   "metadata": {},
   "source": [
    "# Exercise 8 - Create a code cell to multiply and add numbers"
   ]
  },
  {
   "cell_type": "markdown",
   "id": "31e22255-0630-44cc-9a26-46d585c2de46",
   "metadata": {},
   "source": [
    "This is a simple arithmetic expression to mutply then add integers."
   ]
  },
  {
   "cell_type": "code",
   "execution_count": 4,
   "id": "868f40ec-541b-4d2f-9875-a35f9178a44f",
   "metadata": {},
   "outputs": [
    {
     "data": {
      "text/plain": [
       "17"
      ]
     },
     "execution_count": 4,
     "metadata": {},
     "output_type": "execute_result"
    }
   ],
   "source": [
    "(3 * 4) + 5"
   ]
  },
  {
   "cell_type": "markdown",
   "id": "e0b0cdf4-2bff-41e6-b156-b3f78d0a1a6e",
   "metadata": {},
   "source": [
    "---"
   ]
  },
  {
   "cell_type": "markdown",
   "id": "fd843634-b874-4d10-a6c7-6d4fa3142d20",
   "metadata": {},
   "source": [
    "# Exercise 9 - Create a code cell to convert minutes to hours"
   ]
  },
  {
   "cell_type": "markdown",
   "id": "aa71c3af-41ef-44c6-bf61-68047996e429",
   "metadata": {},
   "source": [
    "This will convert 200 minutes to hours by diving by 60."
   ]
  },
  {
   "cell_type": "code",
   "execution_count": 5,
   "id": "3a797416-fcf2-48f3-ae44-3d9e6d3138ad",
   "metadata": {},
   "outputs": [
    {
     "data": {
      "text/plain": [
       "3.3333333333333335"
      ]
     },
     "execution_count": 5,
     "metadata": {},
     "output_type": "execute_result"
    }
   ],
   "source": [
    "200 / 60"
   ]
  },
  {
   "cell_type": "markdown",
   "id": "cc987ad2-eed1-48a9-a6b1-a5dc37f77f5e",
   "metadata": {},
   "source": [
    "---"
   ]
  },
  {
   "cell_type": "markdown",
   "id": "48570646-4806-46d3-a7d8-78bc5c47e3ad",
   "metadata": {},
   "source": [
    "# Exercise 10 - Insert a markdown cell to list Objectives"
   ]
  },
  {
   "cell_type": "markdown",
   "id": "4dda22f9-ccc5-46f2-8686-5490b69fa5e5",
   "metadata": {},
   "source": [
    "In this notebook, Data Science Tools and Ecosystem are summarized."
   ]
  },
  {
   "cell_type": "markdown",
   "id": "6d248424-edf3-452f-86d1-a25119fd742e",
   "metadata": {},
   "source": [
    "**Objectives:**\n",
    "\n",
    "- List popular languages for Data Science.\n",
    "- List popular libraries for Data Science.\n",
    "- List popular development environment for Data Science.\n",
    "- DO some basic practices for python by Jupyter note."
   ]
  },
  {
   "cell_type": "markdown",
   "id": "5afed37e-4961-4ebe-b83d-bdc0434d1415",
   "metadata": {},
   "source": [
    "---"
   ]
  },
  {
   "cell_type": "markdown",
   "id": "d27112bf-ccbc-4a9d-bc7c-47e27d20d0ee",
   "metadata": {},
   "source": [
    "# Exercise 11 - Create a markdown cell to indicate the Author's name"
   ]
  },
  {
   "cell_type": "markdown",
   "id": "681ed67d-fcaf-493f-b300-787eaa877f7e",
   "metadata": {},
   "source": [
    "## Author\n",
    "William Li CHANG"
   ]
  },
  {
   "cell_type": "markdown",
   "id": "6a717cd8-96df-4c19-b2b1-0601edf44f7d",
   "metadata": {},
   "source": [
    "---"
   ]
  },
  {
   "cell_type": "code",
   "execution_count": null,
   "id": "074fc128-d867-496f-92ea-c7c9ca71eb4b",
   "metadata": {},
   "outputs": [],
   "source": []
  }
 ],
 "metadata": {
  "kernelspec": {
   "display_name": "Python 3 (ipykernel)",
   "language": "python",
   "name": "python3"
  },
  "language_info": {
   "codemirror_mode": {
    "name": "ipython",
    "version": 3
   },
   "file_extension": ".py",
   "mimetype": "text/x-python",
   "name": "python",
   "nbconvert_exporter": "python",
   "pygments_lexer": "ipython3",
   "version": "3.10.9"
  }
 },
 "nbformat": 4,
 "nbformat_minor": 5
}
